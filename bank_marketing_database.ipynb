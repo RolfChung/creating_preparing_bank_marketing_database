{
 "cells": [
  {
   "cell_type": "markdown",
   "id": "37fcd76c-6708-4df9-aff6-85500e1359e3",
   "metadata": {
    "executionTime": 0,
    "lastSuccessfullyExecutedCode": "# Start coding...\nimport pandas as pd\nimport numpy as np"
   },
   "source": [
    "<h1>Creating and preparing a bank marketing database</h1>\n",
    "\n",
    "<p>\n",
    "from a csv file.\n",
    "</p>\n",
    "\n",
    "<p>\n",
    "This project is based on a\n",
    "<a href =\"https://www.datacamp.com\">\n",
    "Datacamp project.\n",
    "</a>\n",
    "</p>"
   ]
  },
  {
   "cell_type": "markdown",
   "id": "02077ee3-e1e4-4fc5-8de1-16e987afa5fb",
   "metadata": {},
   "source": [
    "<center><img src=\"https://assets.datacamp.com/production/repositories/6005/datasets/0c64652120b80cfe2762012d7252b439138be223/piggy_bank.jpg\" alt=\"Piggy bank\" width=\"600\" height=\"500\"></center>\n",
    "\n",
    "Personal loans are a lucrative revenue stream for banks. The typical interest rate of a two year loan in the United Kingdom is [around 10%](https://www.experian.com/blogs/ask-experian/whats-a-good-interest-rate-for-a-personal-loan/). This might not sound like a lot, but in September 2022 alone UK consumers borrowed [around £1.5 billion](https://www.ukfinance.org.uk/system/files/2022-12/Household%20Finance%20Review%202022%20Q3-%20Final.pdf)!\n",
    "\n",
    "You have been asked to work with a bank to clean and store the data they collected as part of a recent marketing campaign, which aimed to get customers to take out a personal loan. They plan to conduct more marketing campaigns going forward so would like you to set up a PostgreSQL database to store this campaign's data, designing the schema in a way that would allow data from future campaigns to be easily imported. \n",
    "\n",
    "They have supplied you with a csv file called `\"bank_marketing.csv\"`, which you will need to clean, reformat, and split, in order to save separate files based on the tables you will create. Lastly, you will write the SQL code that the bank can execute to create the tables and populate with the data from the csv files. As the bank are quite strict about their security, you'll provide the database design script as a `.sql` file that they can then run. \n",
    "\n",
    "You have been asked to design a database that will have three tables:\n",
    "\n",
    "## `client`\n",
    "| column | data type | description |\n",
    "|--------|-----------|-------------|\n",
    "| `id` | `serial` | Client ID - primary key |\n",
    "| `age` | `integer` | Client's age in years |\n",
    "| `job` | `text` | Client's type of job |\n",
    "| `marital` | `text` | Client's marital status |\n",
    "| `education` | `text` | Client's level of education |\n",
    "| `credit_default` | `text` | Whether the client's credit is in default |\n",
    "| `housing` | `text` | Whether the client has an existing housing loan (mortgage) |\n",
    "| `loan` | `text` | Whether the client has an existing personal loan |\n",
    "\n",
    "## `campaign`\n",
    "| column | data type | description |\n",
    "|--------|-----------|-------------|\n",
    "| `campaign_id` | `integer` | Campaign ID |\n",
    "| `client_id` | `serial` | Client ID - references `id` in the `client` table |\n",
    "| `number_contacts` | `integer` | Number of contact attempts to the client in the current campaign |\n",
    "| `contact_duration` | `integer` | Last contact duration in seconds |\n",
    "| `pdays` | `integer` | Number of days since contact in previous campaign (`999` = not previously contacted) |\n",
    "| `previous_campaign_contacts` | `integer` | Number of contact attempts to the client in the previous campaign |\n",
    "| `previous_outcome` | `text` | Outcome of the previous campaign |\n",
    "| `campaign_outcome` | `integer` | Outcome of the current campaign |\n",
    "| `last_contact_date` | `date` | Last date the client was contacted |\n",
    "\n",
    "## `economics`\n",
    "| column | data type | description |\n",
    "|--------|-----------|-------------|\n",
    "| `client_id` | `serial` | Client ID - references `id` in the `client` table |\n",
    "| `emp_var_rate` | `float` | Employment variation rate (quarterly indicator) |\n",
    "| `cons_price_idx` | `float` | Consumer price index (monthly indicator) |\n",
    "| `euribor_three_months` | `float` | Euro Interbank Offered Rate (euribor) three month rate (daily indicator) |\n",
    "| `number_employed` | `float` | Number of employees (quarterly indicator)| "
   ]
  },
  {
   "cell_type": "markdown",
   "id": "13aec968-db65-41a6-b217-1113cec58284",
   "metadata": {},
   "source": [
    "## Import packages"
   ]
  },
  {
   "cell_type": "code",
   "execution_count": null,
   "id": "3089bad3-84aa-4010-b73e-fe16b69866ec",
   "metadata": {},
   "outputs": [],
   "source": [
    "# Start coding...\n",
    "import pandas as pd\n",
    "import numpy as np"
   ]
  },
  {
   "cell_type": "markdown",
   "id": "20c1194a-a4b2-4eb7-a715-86892f69b731",
   "metadata": {},
   "source": [
    "## Import data"
   ]
  },
  {
   "cell_type": "code",
   "execution_count": 40,
   "id": "d0b080ce-0ef1-44b8-bd47-05f21c3414ba",
   "metadata": {
    "executionTime": 283,
    "lastSuccessfullyExecutedCode": "bank=pd.read_csv(\"bank_marketing.csv\")\nprint(bank.info())"
   },
   "outputs": [
    {
     "name": "stdout",
     "output_type": "stream",
     "text": [
      "<class 'pandas.core.frame.DataFrame'>\n",
      "RangeIndex: 41188 entries, 0 to 41187\n",
      "Data columns (total 22 columns):\n",
      " #   Column          Non-Null Count  Dtype  \n",
      "---  ------          --------------  -----  \n",
      " 0   client_id       41188 non-null  int64  \n",
      " 1   age             41188 non-null  int64  \n",
      " 2   job             41188 non-null  object \n",
      " 3   marital         41188 non-null  object \n",
      " 4   education       41188 non-null  object \n",
      " 5   credit_default  41188 non-null  object \n",
      " 6   housing         41188 non-null  object \n",
      " 7   loan            41188 non-null  object \n",
      " 8   contact         41188 non-null  object \n",
      " 9   month           41188 non-null  object \n",
      " 10  day_of_week     41188 non-null  object \n",
      " 11  duration        41188 non-null  int64  \n",
      " 12  campaign        41188 non-null  int64  \n",
      " 13  pdays           41188 non-null  int64  \n",
      " 14  previous        41188 non-null  int64  \n",
      " 15  poutcome        41188 non-null  object \n",
      " 16  emp_var_rate    41188 non-null  float64\n",
      " 17  cons_price_idx  41188 non-null  float64\n",
      " 18  cons_conf_idx   41188 non-null  float64\n",
      " 19  euribor3m       41188 non-null  float64\n",
      " 20  nr_employed     41188 non-null  float64\n",
      " 21  y               41188 non-null  object \n",
      "dtypes: float64(5), int64(6), object(11)\n",
      "memory usage: 6.9+ MB\n",
      "None\n"
     ]
    }
   ],
   "source": [
    "bank=pd.read_csv(\"bank_marketing.csv\")\n",
    "print(bank.info())"
   ]
  },
  {
   "cell_type": "markdown",
   "id": "81b7b2b8-c092-4b41-9b01-65e9fe9a417e",
   "metadata": {},
   "source": [
    "## Data wrangling & cleaning"
   ]
  },
  {
   "cell_type": "code",
   "execution_count": 41,
   "id": "a27a73cc-4bd3-4dcc-9df6-8de4f0dcf6ed",
   "metadata": {
    "executionTime": 286,
    "lastSuccessfullyExecutedCode": "bank['year'] =2022\nbank['year'].astype(int)"
   },
   "outputs": [
    {
     "data": {
      "text/plain": [
       "0        2022\n",
       "1        2022\n",
       "2        2022\n",
       "3        2022\n",
       "4        2022\n",
       "         ... \n",
       "41183    2022\n",
       "41184    2022\n",
       "41185    2022\n",
       "41186    2022\n",
       "41187    2022\n",
       "Name: year, Length: 41188, dtype: int32"
      ]
     },
     "execution_count": 41,
     "metadata": {},
     "output_type": "execute_result"
    }
   ],
   "source": [
    "bank['year'] =2022\n",
    "bank['year'].astype(int)"
   ]
  },
  {
   "cell_type": "code",
   "execution_count": 42,
   "id": "d723e85b-5b41-4b6d-87ab-c768c484c2ae",
   "metadata": {
    "executionTime": 364,
    "lastSuccessfullyExecutedCode": "bank.head()"
   },
   "outputs": [
    {
     "data": {
      "text/html": [
       "<div>\n",
       "<style scoped>\n",
       "    .dataframe tbody tr th:only-of-type {\n",
       "        vertical-align: middle;\n",
       "    }\n",
       "\n",
       "    .dataframe tbody tr th {\n",
       "        vertical-align: top;\n",
       "    }\n",
       "\n",
       "    .dataframe thead th {\n",
       "        text-align: right;\n",
       "    }\n",
       "</style>\n",
       "<table border=\"1\" class=\"dataframe\">\n",
       "  <thead>\n",
       "    <tr style=\"text-align: right;\">\n",
       "      <th></th>\n",
       "      <th>client_id</th>\n",
       "      <th>age</th>\n",
       "      <th>job</th>\n",
       "      <th>marital</th>\n",
       "      <th>education</th>\n",
       "      <th>credit_default</th>\n",
       "      <th>housing</th>\n",
       "      <th>loan</th>\n",
       "      <th>contact</th>\n",
       "      <th>month</th>\n",
       "      <th>...</th>\n",
       "      <th>pdays</th>\n",
       "      <th>previous</th>\n",
       "      <th>poutcome</th>\n",
       "      <th>emp_var_rate</th>\n",
       "      <th>cons_price_idx</th>\n",
       "      <th>cons_conf_idx</th>\n",
       "      <th>euribor3m</th>\n",
       "      <th>nr_employed</th>\n",
       "      <th>y</th>\n",
       "      <th>year</th>\n",
       "    </tr>\n",
       "  </thead>\n",
       "  <tbody>\n",
       "    <tr>\n",
       "      <th>0</th>\n",
       "      <td>0</td>\n",
       "      <td>56</td>\n",
       "      <td>housemaid</td>\n",
       "      <td>married</td>\n",
       "      <td>basic.4y</td>\n",
       "      <td>no</td>\n",
       "      <td>no</td>\n",
       "      <td>no</td>\n",
       "      <td>telephone</td>\n",
       "      <td>may</td>\n",
       "      <td>...</td>\n",
       "      <td>999</td>\n",
       "      <td>0</td>\n",
       "      <td>nonexistent</td>\n",
       "      <td>1.1</td>\n",
       "      <td>93.994</td>\n",
       "      <td>-36.4</td>\n",
       "      <td>4.857</td>\n",
       "      <td>5191.0</td>\n",
       "      <td>no</td>\n",
       "      <td>2022</td>\n",
       "    </tr>\n",
       "    <tr>\n",
       "      <th>1</th>\n",
       "      <td>1</td>\n",
       "      <td>57</td>\n",
       "      <td>services</td>\n",
       "      <td>married</td>\n",
       "      <td>high.school</td>\n",
       "      <td>unknown</td>\n",
       "      <td>no</td>\n",
       "      <td>no</td>\n",
       "      <td>telephone</td>\n",
       "      <td>may</td>\n",
       "      <td>...</td>\n",
       "      <td>999</td>\n",
       "      <td>0</td>\n",
       "      <td>nonexistent</td>\n",
       "      <td>1.1</td>\n",
       "      <td>93.994</td>\n",
       "      <td>-36.4</td>\n",
       "      <td>4.857</td>\n",
       "      <td>5191.0</td>\n",
       "      <td>no</td>\n",
       "      <td>2022</td>\n",
       "    </tr>\n",
       "    <tr>\n",
       "      <th>2</th>\n",
       "      <td>2</td>\n",
       "      <td>37</td>\n",
       "      <td>services</td>\n",
       "      <td>married</td>\n",
       "      <td>high.school</td>\n",
       "      <td>no</td>\n",
       "      <td>yes</td>\n",
       "      <td>no</td>\n",
       "      <td>telephone</td>\n",
       "      <td>may</td>\n",
       "      <td>...</td>\n",
       "      <td>999</td>\n",
       "      <td>0</td>\n",
       "      <td>nonexistent</td>\n",
       "      <td>1.1</td>\n",
       "      <td>93.994</td>\n",
       "      <td>-36.4</td>\n",
       "      <td>4.857</td>\n",
       "      <td>5191.0</td>\n",
       "      <td>no</td>\n",
       "      <td>2022</td>\n",
       "    </tr>\n",
       "    <tr>\n",
       "      <th>3</th>\n",
       "      <td>3</td>\n",
       "      <td>40</td>\n",
       "      <td>admin.</td>\n",
       "      <td>married</td>\n",
       "      <td>basic.6y</td>\n",
       "      <td>no</td>\n",
       "      <td>no</td>\n",
       "      <td>no</td>\n",
       "      <td>telephone</td>\n",
       "      <td>may</td>\n",
       "      <td>...</td>\n",
       "      <td>999</td>\n",
       "      <td>0</td>\n",
       "      <td>nonexistent</td>\n",
       "      <td>1.1</td>\n",
       "      <td>93.994</td>\n",
       "      <td>-36.4</td>\n",
       "      <td>4.857</td>\n",
       "      <td>5191.0</td>\n",
       "      <td>no</td>\n",
       "      <td>2022</td>\n",
       "    </tr>\n",
       "    <tr>\n",
       "      <th>4</th>\n",
       "      <td>4</td>\n",
       "      <td>56</td>\n",
       "      <td>services</td>\n",
       "      <td>married</td>\n",
       "      <td>high.school</td>\n",
       "      <td>no</td>\n",
       "      <td>no</td>\n",
       "      <td>yes</td>\n",
       "      <td>telephone</td>\n",
       "      <td>may</td>\n",
       "      <td>...</td>\n",
       "      <td>999</td>\n",
       "      <td>0</td>\n",
       "      <td>nonexistent</td>\n",
       "      <td>1.1</td>\n",
       "      <td>93.994</td>\n",
       "      <td>-36.4</td>\n",
       "      <td>4.857</td>\n",
       "      <td>5191.0</td>\n",
       "      <td>no</td>\n",
       "      <td>2022</td>\n",
       "    </tr>\n",
       "  </tbody>\n",
       "</table>\n",
       "<p>5 rows × 23 columns</p>\n",
       "</div>"
      ],
      "text/plain": [
       "   client_id  age        job  marital    education credit_default housing  \\\n",
       "0          0   56  housemaid  married     basic.4y             no      no   \n",
       "1          1   57   services  married  high.school        unknown      no   \n",
       "2          2   37   services  married  high.school             no     yes   \n",
       "3          3   40     admin.  married     basic.6y             no      no   \n",
       "4          4   56   services  married  high.school             no      no   \n",
       "\n",
       "  loan    contact month  ... pdays  previous     poutcome  emp_var_rate  \\\n",
       "0   no  telephone   may  ...   999         0  nonexistent           1.1   \n",
       "1   no  telephone   may  ...   999         0  nonexistent           1.1   \n",
       "2   no  telephone   may  ...   999         0  nonexistent           1.1   \n",
       "3   no  telephone   may  ...   999         0  nonexistent           1.1   \n",
       "4  yes  telephone   may  ...   999         0  nonexistent           1.1   \n",
       "\n",
       "   cons_price_idx cons_conf_idx  euribor3m  nr_employed   y  year  \n",
       "0          93.994         -36.4      4.857       5191.0  no  2022  \n",
       "1          93.994         -36.4      4.857       5191.0  no  2022  \n",
       "2          93.994         -36.4      4.857       5191.0  no  2022  \n",
       "3          93.994         -36.4      4.857       5191.0  no  2022  \n",
       "4          93.994         -36.4      4.857       5191.0  no  2022  \n",
       "\n",
       "[5 rows x 23 columns]"
      ]
     },
     "execution_count": 42,
     "metadata": {},
     "output_type": "execute_result"
    }
   ],
   "source": [
    "bank.head()"
   ]
  },
  {
   "cell_type": "code",
   "execution_count": 43,
   "id": "26eaa094-333e-44ec-a2f2-698a41248a68",
   "metadata": {
    "executionTime": 243,
    "lastSuccessfullyExecutedCode": "bank.dtypes"
   },
   "outputs": [
    {
     "data": {
      "text/plain": [
       "client_id           int64\n",
       "age                 int64\n",
       "job                object\n",
       "marital            object\n",
       "education          object\n",
       "credit_default     object\n",
       "housing            object\n",
       "loan               object\n",
       "contact            object\n",
       "month              object\n",
       "day_of_week        object\n",
       "duration            int64\n",
       "campaign            int64\n",
       "pdays               int64\n",
       "previous            int64\n",
       "poutcome           object\n",
       "emp_var_rate      float64\n",
       "cons_price_idx    float64\n",
       "cons_conf_idx     float64\n",
       "euribor3m         float64\n",
       "nr_employed       float64\n",
       "y                  object\n",
       "year                int64\n",
       "dtype: object"
      ]
     },
     "execution_count": 43,
     "metadata": {},
     "output_type": "execute_result"
    }
   ],
   "source": [
    "bank.dtypes"
   ]
  },
  {
   "cell_type": "code",
   "execution_count": 44,
   "id": "a791c40a-8bc3-4447-a3f9-6adb9b0bf96d",
   "metadata": {
    "executionTime": 187,
    "lastSuccessfullyExecutedCode": "bank.isnull().sum()"
   },
   "outputs": [
    {
     "data": {
      "text/plain": [
       "client_id         0\n",
       "age               0\n",
       "job               0\n",
       "marital           0\n",
       "education         0\n",
       "credit_default    0\n",
       "housing           0\n",
       "loan              0\n",
       "contact           0\n",
       "month             0\n",
       "day_of_week       0\n",
       "duration          0\n",
       "campaign          0\n",
       "pdays             0\n",
       "previous          0\n",
       "poutcome          0\n",
       "emp_var_rate      0\n",
       "cons_price_idx    0\n",
       "cons_conf_idx     0\n",
       "euribor3m         0\n",
       "nr_employed       0\n",
       "y                 0\n",
       "year              0\n",
       "dtype: int64"
      ]
     },
     "execution_count": 44,
     "metadata": {},
     "output_type": "execute_result"
    }
   ],
   "source": [
    "bank.isnull().sum()"
   ]
  },
  {
   "cell_type": "code",
   "execution_count": 45,
   "id": "33e29b86-36c0-4234-afaf-819e219cc915",
   "metadata": {
    "executionTime": 221,
    "lastSuccessfullyExecutedCode": "bank[\"education\"] = bank['education'].str.replace(\".\", \"_\")\n\nbank[\"education\"].fillna(value={'unknown':np.NaN}, inplace=True)\n\nif 'unknown' in bank[\"education\"]:\n    print(\"Found unknown\")\nelse:\n    print(\"Unknown not found.\")"
   },
   "outputs": [
    {
     "name": "stdout",
     "output_type": "stream",
     "text": [
      "Unknown not found.\n"
     ]
    }
   ],
   "source": [
    "bank[\"education\"] = bank['education'].str.replace(\".\", \"_\", regex=True)\n",
    "\n",
    "bank[\"education\"].fillna(value={'unknown':np.NaN}, inplace=True)\n",
    "\n",
    "if 'unknown' in bank[\"education\"]:\n",
    "    print(\"Found unknown\")\n",
    "else:\n",
    "    print(\"Unknown not found.\")"
   ]
  },
  {
   "cell_type": "code",
   "execution_count": 46,
   "id": "2550f090-ef1c-4953-8f24-71d055c6fa60",
   "metadata": {
    "executionTime": 202,
    "lastSuccessfullyExecutedCode": "bank[\"education\"].isnull().sum()"
   },
   "outputs": [
    {
     "data": {
      "text/plain": [
       "0"
      ]
     },
     "execution_count": 46,
     "metadata": {},
     "output_type": "execute_result"
    }
   ],
   "source": [
    "bank[\"education\"].isnull().sum()"
   ]
  },
  {
   "cell_type": "code",
   "execution_count": 47,
   "id": "0f7cf07d-3997-4e83-b9b2-a489f96293da",
   "metadata": {
    "executionTime": 203,
    "lastSuccessfullyExecutedCode": "\".\" in  bank[\"education\"]"
   },
   "outputs": [
    {
     "data": {
      "text/plain": [
       "False"
      ]
     },
     "execution_count": 47,
     "metadata": {},
     "output_type": "execute_result"
    }
   ],
   "source": [
    "\".\" in  bank[\"education\"]"
   ]
  },
  {
   "cell_type": "code",
   "execution_count": 48,
   "id": "153f9c46-b2f9-495e-bff7-f0b82c2ab711",
   "metadata": {
    "executionTime": 164,
    "lastSuccessfullyExecutedCode": "bank['job']=bank['job'].str.replace('.', '')\n\nprint(type(bank['job']))\nprint(bank['job'].head())\n\nif \".\" in bank['job']:\n    print(\"Period found in job variable.\")\nelse:\n    print(\"Period not found in job variable.\")"
   },
   "outputs": [
    {
     "name": "stdout",
     "output_type": "stream",
     "text": [
      "<class 'pandas.core.series.Series'>\n",
      "0    housemaid\n",
      "1     services\n",
      "2     services\n",
      "3        admin\n",
      "4     services\n",
      "Name: job, dtype: object\n",
      "Period not found in job variable.\n"
     ]
    },
    {
     "name": "stderr",
     "output_type": "stream",
     "text": [
      "C:\\Users\\rolfc\\AppData\\Local\\Temp/ipykernel_7376/1326380922.py:1: FutureWarning: The default value of regex will change from True to False in a future version. In addition, single character regular expressions will *not* be treated as literal strings when regex=True.\n",
      "  bank['job']=bank['job'].str.replace('.', '')\n"
     ]
    }
   ],
   "source": [
    "bank['job']=bank['job'].str.replace('.', '')\n",
    "\n",
    "print(type(bank['job']))\n",
    "print(bank['job'].head())\n",
    "\n",
    "if \".\" in bank['job']:\n",
    "    print(\"Period found in job variable.\")\n",
    "else:\n",
    "    print(\"Period not found in job variable.\")"
   ]
  },
  {
   "cell_type": "code",
   "execution_count": 49,
   "id": "d3be4665-a21d-492c-97b0-160d5a6f56ab",
   "metadata": {
    "executionTime": 160,
    "lastSuccessfullyExecutedCode": "bank['poutcome'].value_counts()"
   },
   "outputs": [
    {
     "data": {
      "text/plain": [
       "nonexistent    35563\n",
       "failure         4252\n",
       "success         1373\n",
       "Name: poutcome, dtype: int64"
      ]
     },
     "execution_count": 49,
     "metadata": {},
     "output_type": "execute_result"
    }
   ],
   "source": [
    "bank['poutcome'].value_counts()"
   ]
  },
  {
   "cell_type": "code",
   "execution_count": 50,
   "id": "fedf912a-339c-4631-95a9-21de2e01d563",
   "metadata": {
    "executionTime": 159,
    "lastSuccessfullyExecutedCode": "bank['poutcome']=\\\nbank['poutcome'].map({'success':1, 'failure':0, 'nonexistent':np.NaN})\n\nbank['poutcome'].value_counts()"
   },
   "outputs": [
    {
     "data": {
      "text/plain": [
       "0.0    4252\n",
       "1.0    1373\n",
       "Name: poutcome, dtype: int64"
      ]
     },
     "execution_count": 50,
     "metadata": {},
     "output_type": "execute_result"
    }
   ],
   "source": [
    "bank['poutcome']=\\\n",
    "bank['poutcome'].map({'success':1, 'failure':0, 'nonexistent':np.NaN})\n",
    "\n",
    "bank['poutcome'].value_counts()"
   ]
  },
  {
   "cell_type": "code",
   "execution_count": 51,
   "id": "d40bdeb1-3fbe-4589-922b-17c5410271f7",
   "metadata": {
    "executionTime": 154,
    "lastSuccessfullyExecutedCode": "bank['y'].value_counts()"
   },
   "outputs": [
    {
     "data": {
      "text/plain": [
       "no     36548\n",
       "yes     4640\n",
       "Name: y, dtype: int64"
      ]
     },
     "execution_count": 51,
     "metadata": {},
     "output_type": "execute_result"
    }
   ],
   "source": [
    "bank['y'].value_counts()"
   ]
  },
  {
   "cell_type": "code",
   "execution_count": 52,
   "id": "6154dcc9-723b-453c-a929-1d525b3b9abd",
   "metadata": {
    "executionTime": 203,
    "lastSuccessfullyExecutedCode": "bank['y'] = bank['y'].map({'no':0, 'yes':1})\nbank['y'].value_counts()"
   },
   "outputs": [
    {
     "data": {
      "text/plain": [
       "0    36548\n",
       "1     4640\n",
       "Name: y, dtype: int64"
      ]
     },
     "execution_count": 52,
     "metadata": {},
     "output_type": "execute_result"
    }
   ],
   "source": [
    "bank['y'] = bank['y'].map({'no':0, 'yes':1})\n",
    "bank['y'].value_counts()"
   ]
  },
  {
   "cell_type": "code",
   "execution_count": 53,
   "id": "5f7d8927-55bb-40b2-96fe-415cfb3e31c7",
   "metadata": {
    "executionTime": 165,
    "lastSuccessfullyExecutedCode": "economics =  \\\nbank.loc[:,[\"client_id\" , \"emp_var_rate\", \"cons_price_idx\", \"euribor3m\", \"nr_employed\"]]\n\nprint(economics.info())"
   },
   "outputs": [
    {
     "name": "stdout",
     "output_type": "stream",
     "text": [
      "<class 'pandas.core.frame.DataFrame'>\n",
      "RangeIndex: 41188 entries, 0 to 41187\n",
      "Data columns (total 5 columns):\n",
      " #   Column          Non-Null Count  Dtype  \n",
      "---  ------          --------------  -----  \n",
      " 0   client_id       41188 non-null  int64  \n",
      " 1   emp_var_rate    41188 non-null  float64\n",
      " 2   cons_price_idx  41188 non-null  float64\n",
      " 3   euribor3m       41188 non-null  float64\n",
      " 4   nr_employed     41188 non-null  float64\n",
      "dtypes: float64(4), int64(1)\n",
      "memory usage: 1.6 MB\n",
      "None\n"
     ]
    }
   ],
   "source": [
    "economics =  \\\n",
    "bank.loc[:,[\"client_id\" , \"emp_var_rate\", \"cons_price_idx\", \"euribor3m\", \"nr_employed\"]]\n",
    "\n",
    "print(economics.info())"
   ]
  },
  {
   "cell_type": "code",
   "execution_count": 54,
   "id": "028830ce-63bb-427a-835e-d5a5923be6d1",
   "metadata": {
    "executionTime": 0,
    "lastSuccessfullyExecutedCode": "  \neconomics.rename(columns={\"euribor3m\":\"euribor_three_months\", \n                          \"nr_employed\":\"number_employed\"}, \n                 inplace=True)"
   },
   "outputs": [],
   "source": [
    "  \n",
    "economics.rename(columns={\"euribor3m\":\"euribor_three_months\", \n",
    "                          \"nr_employed\":\"number_employed\"}, \n",
    "                 inplace=True)"
   ]
  },
  {
   "cell_type": "code",
   "execution_count": 55,
   "id": "f299abdf-6279-4933-9bbb-ae70894c555e",
   "metadata": {
    "executionTime": 174,
    "lastSuccessfullyExecutedCode": "economics.info()"
   },
   "outputs": [
    {
     "name": "stdout",
     "output_type": "stream",
     "text": [
      "<class 'pandas.core.frame.DataFrame'>\n",
      "RangeIndex: 41188 entries, 0 to 41187\n",
      "Data columns (total 5 columns):\n",
      " #   Column                Non-Null Count  Dtype  \n",
      "---  ------                --------------  -----  \n",
      " 0   client_id             41188 non-null  int64  \n",
      " 1   emp_var_rate          41188 non-null  float64\n",
      " 2   cons_price_idx        41188 non-null  float64\n",
      " 3   euribor_three_months  41188 non-null  float64\n",
      " 4   number_employed       41188 non-null  float64\n",
      "dtypes: float64(4), int64(1)\n",
      "memory usage: 1.6 MB\n"
     ]
    }
   ],
   "source": [
    "economics.info()"
   ]
  },
  {
   "cell_type": "markdown",
   "id": "dd999e40-75cb-4050-8e78-e7820e0d7c69",
   "metadata": {},
   "source": [
    "### Renaming column names"
   ]
  },
  {
   "cell_type": "code",
   "execution_count": 56,
   "id": "da8bd69c-d0e5-4903-986e-050def22c795",
   "metadata": {
    "executionTime": 166,
    "lastSuccessfullyExecutedCode": "\nclient = bank.loc[:, [\"client_id\",\n\"age\",\n\"job\",\n\"marital\",\n\"education\",\n\"credit_default\",\t\n\"housing\",\n\"loan\"]]\n\nclient.info()"
   },
   "outputs": [
    {
     "name": "stdout",
     "output_type": "stream",
     "text": [
      "<class 'pandas.core.frame.DataFrame'>\n",
      "RangeIndex: 41188 entries, 0 to 41187\n",
      "Data columns (total 8 columns):\n",
      " #   Column          Non-Null Count  Dtype \n",
      "---  ------          --------------  ----- \n",
      " 0   client_id       41188 non-null  int64 \n",
      " 1   age             41188 non-null  int64 \n",
      " 2   job             41188 non-null  object\n",
      " 3   marital         41188 non-null  object\n",
      " 4   education       41188 non-null  object\n",
      " 5   credit_default  41188 non-null  object\n",
      " 6   housing         41188 non-null  object\n",
      " 7   loan            41188 non-null  object\n",
      "dtypes: int64(2), object(6)\n",
      "memory usage: 2.5+ MB\n"
     ]
    }
   ],
   "source": [
    "\n",
    "client = bank.loc[:, [\"client_id\",\n",
    "\"age\",\n",
    "\"job\",\n",
    "\"marital\",\n",
    "\"education\",\n",
    "\"credit_default\",\t\n",
    "\"housing\",\n",
    "\"loan\"]]\n",
    "\n",
    "client.info()"
   ]
  },
  {
   "cell_type": "code",
   "execution_count": 57,
   "id": "7a68f50f-6c9b-4e8e-9937-f6b1ff047243",
   "metadata": {
    "executionTime": 168,
    "lastSuccessfullyExecutedCode": "client.rename(columns={'client_id':'id'}, inplace=True)\n\nclient.head()"
   },
   "outputs": [
    {
     "data": {
      "text/html": [
       "<div>\n",
       "<style scoped>\n",
       "    .dataframe tbody tr th:only-of-type {\n",
       "        vertical-align: middle;\n",
       "    }\n",
       "\n",
       "    .dataframe tbody tr th {\n",
       "        vertical-align: top;\n",
       "    }\n",
       "\n",
       "    .dataframe thead th {\n",
       "        text-align: right;\n",
       "    }\n",
       "</style>\n",
       "<table border=\"1\" class=\"dataframe\">\n",
       "  <thead>\n",
       "    <tr style=\"text-align: right;\">\n",
       "      <th></th>\n",
       "      <th>id</th>\n",
       "      <th>age</th>\n",
       "      <th>job</th>\n",
       "      <th>marital</th>\n",
       "      <th>education</th>\n",
       "      <th>credit_default</th>\n",
       "      <th>housing</th>\n",
       "      <th>loan</th>\n",
       "    </tr>\n",
       "  </thead>\n",
       "  <tbody>\n",
       "    <tr>\n",
       "      <th>0</th>\n",
       "      <td>0</td>\n",
       "      <td>56</td>\n",
       "      <td>housemaid</td>\n",
       "      <td>married</td>\n",
       "      <td>basic_4y</td>\n",
       "      <td>no</td>\n",
       "      <td>no</td>\n",
       "      <td>no</td>\n",
       "    </tr>\n",
       "    <tr>\n",
       "      <th>1</th>\n",
       "      <td>1</td>\n",
       "      <td>57</td>\n",
       "      <td>services</td>\n",
       "      <td>married</td>\n",
       "      <td>high_school</td>\n",
       "      <td>unknown</td>\n",
       "      <td>no</td>\n",
       "      <td>no</td>\n",
       "    </tr>\n",
       "    <tr>\n",
       "      <th>2</th>\n",
       "      <td>2</td>\n",
       "      <td>37</td>\n",
       "      <td>services</td>\n",
       "      <td>married</td>\n",
       "      <td>high_school</td>\n",
       "      <td>no</td>\n",
       "      <td>yes</td>\n",
       "      <td>no</td>\n",
       "    </tr>\n",
       "    <tr>\n",
       "      <th>3</th>\n",
       "      <td>3</td>\n",
       "      <td>40</td>\n",
       "      <td>admin</td>\n",
       "      <td>married</td>\n",
       "      <td>basic_6y</td>\n",
       "      <td>no</td>\n",
       "      <td>no</td>\n",
       "      <td>no</td>\n",
       "    </tr>\n",
       "    <tr>\n",
       "      <th>4</th>\n",
       "      <td>4</td>\n",
       "      <td>56</td>\n",
       "      <td>services</td>\n",
       "      <td>married</td>\n",
       "      <td>high_school</td>\n",
       "      <td>no</td>\n",
       "      <td>no</td>\n",
       "      <td>yes</td>\n",
       "    </tr>\n",
       "  </tbody>\n",
       "</table>\n",
       "</div>"
      ],
      "text/plain": [
       "   id  age        job  marital    education credit_default housing loan\n",
       "0   0   56  housemaid  married     basic_4y             no      no   no\n",
       "1   1   57   services  married  high_school        unknown      no   no\n",
       "2   2   37   services  married  high_school             no     yes   no\n",
       "3   3   40      admin  married     basic_6y             no      no   no\n",
       "4   4   56   services  married  high_school             no      no  yes"
      ]
     },
     "execution_count": 57,
     "metadata": {},
     "output_type": "execute_result"
    }
   ],
   "source": [
    "client.rename(columns={'client_id':'id'}, inplace=True)\n",
    "\n",
    "client.head()"
   ]
  },
  {
   "cell_type": "code",
   "execution_count": 58,
   "id": "bb937051-8a3b-4b83-8c0f-22b36cbab676",
   "metadata": {
    "executionTime": 120,
    "lastSuccessfullyExecutedCode": "campaign = bank.loc[:, [\"client_id\", \"campaign\", \"duration\", \n                        \"pdays\",\"previous\",\"poutcome\", \"y\"]]\n\ncampaign.insert(0, \"campaign_id\", 1)\n\n\nprint(campaign.info())\nprint(campaign.head())\n"
   },
   "outputs": [
    {
     "name": "stdout",
     "output_type": "stream",
     "text": [
      "<class 'pandas.core.frame.DataFrame'>\n",
      "RangeIndex: 41188 entries, 0 to 41187\n",
      "Data columns (total 8 columns):\n",
      " #   Column       Non-Null Count  Dtype  \n",
      "---  ------       --------------  -----  \n",
      " 0   campaign_id  41188 non-null  int64  \n",
      " 1   client_id    41188 non-null  int64  \n",
      " 2   campaign     41188 non-null  int64  \n",
      " 3   duration     41188 non-null  int64  \n",
      " 4   pdays        41188 non-null  int64  \n",
      " 5   previous     41188 non-null  int64  \n",
      " 6   poutcome     5625 non-null   float64\n",
      " 7   y            41188 non-null  int64  \n",
      "dtypes: float64(1), int64(7)\n",
      "memory usage: 2.5 MB\n",
      "None\n",
      "   campaign_id  client_id  campaign  duration  pdays  previous  poutcome  y\n",
      "0            1          0         1       261    999         0       NaN  0\n",
      "1            1          1         1       149    999         0       NaN  0\n",
      "2            1          2         1       226    999         0       NaN  0\n",
      "3            1          3         1       151    999         0       NaN  0\n",
      "4            1          4         1       307    999         0       NaN  0\n"
     ]
    }
   ],
   "source": [
    "campaign = bank.loc[:, [\"client_id\", \"campaign\", \"duration\", \n",
    "                        \"pdays\",\"previous\",\"poutcome\", \"y\"]]\n",
    "\n",
    "campaign.insert(0, \"campaign_id\", 1)\n",
    "\n",
    "\n",
    "print(campaign.info())\n",
    "print(campaign.head())\n"
   ]
  },
  {
   "cell_type": "code",
   "execution_count": 59,
   "id": "2a40342c-fbcf-4130-b219-60fb2657cbd6",
   "metadata": {
    "executionTime": 0,
    "lastSuccessfullyExecutedCode": "campaign.rename(columns={\"duration\":\"contact_duration\", \"previous\": \"previous_campaign_contacts\", \"poutcome\": \"previous_outcome\", \"campaign\":\"number_contacts\", \"y\":\"campaign_outcome\",}, inplace=True)"
   },
   "outputs": [],
   "source": [
    "campaign.rename(columns={\"duration\":\"contact_duration\", \"previous\": \"previous_campaign_contacts\", \"poutcome\": \"previous_outcome\", \"campaign\":\"number_contacts\", \"y\":\"campaign_outcome\",}, inplace=True)"
   ]
  },
  {
   "cell_type": "code",
   "execution_count": 60,
   "id": "838e574e-f659-427c-a512-653bfc3b51d2",
   "metadata": {
    "executionTime": 0,
    "lastSuccessfullyExecutedCode": "campaign=campaign[[\"client_id\",   \n\"contact_duration\",    \n\"number_contacts\",    \n\"pdays\",       \n\"previous_campaign_contacts\",       \n\"previous_outcome\" ,\n\"campaign_outcome\"]]"
   },
   "outputs": [],
   "source": [
    "campaign=campaign[[\"client_id\",   \n",
    "\"contact_duration\",    \n",
    "\"number_contacts\",    \n",
    "\"pdays\",       \n",
    "\"previous_campaign_contacts\",       \n",
    "\"previous_outcome\" ,\n",
    "\"campaign_outcome\"]]"
   ]
  },
  {
   "cell_type": "code",
   "execution_count": 61,
   "id": "d206c525-e6f3-4913-af45-0d7bb028c246",
   "metadata": {
    "executionTime": 132,
    "lastSuccessfullyExecutedCode": "campaign.info()"
   },
   "outputs": [
    {
     "name": "stdout",
     "output_type": "stream",
     "text": [
      "<class 'pandas.core.frame.DataFrame'>\n",
      "RangeIndex: 41188 entries, 0 to 41187\n",
      "Data columns (total 7 columns):\n",
      " #   Column                      Non-Null Count  Dtype  \n",
      "---  ------                      --------------  -----  \n",
      " 0   client_id                   41188 non-null  int64  \n",
      " 1   contact_duration            41188 non-null  int64  \n",
      " 2   number_contacts             41188 non-null  int64  \n",
      " 3   pdays                       41188 non-null  int64  \n",
      " 4   previous_campaign_contacts  41188 non-null  int64  \n",
      " 5   previous_outcome            5625 non-null   float64\n",
      " 6   campaign_outcome            41188 non-null  int64  \n",
      "dtypes: float64(1), int64(6)\n",
      "memory usage: 2.2 MB\n"
     ]
    }
   ],
   "source": [
    "campaign.info()"
   ]
  },
  {
   "cell_type": "code",
   "execution_count": 62,
   "id": "8a6ada85-d355-46d5-8006-20d927502bc5",
   "metadata": {
    "executionTime": 100,
    "lastSuccessfullyExecutedCode": "bank['month'].value_counts()"
   },
   "outputs": [
    {
     "data": {
      "text/plain": [
       "may    13769\n",
       "jul     7174\n",
       "aug     6178\n",
       "jun     5318\n",
       "nov     4101\n",
       "apr     2632\n",
       "oct      718\n",
       "sep      570\n",
       "mar      546\n",
       "dec      182\n",
       "Name: month, dtype: int64"
      ]
     },
     "execution_count": 62,
     "metadata": {},
     "output_type": "execute_result"
    }
   ],
   "source": [
    "bank['month'].value_counts()"
   ]
  },
  {
   "cell_type": "markdown",
   "id": "af5e01b3-df64-43a5-92a2-0a1cd75206bd",
   "metadata": {},
   "source": [
    "## Create a datetime variable"
   ]
  },
  {
   "cell_type": "code",
   "execution_count": 63,
   "id": "f68f1bdb-8109-4ded-9f6a-dfc34c036b5a",
   "metadata": {
    "executionTime": 94,
    "lastSuccessfullyExecutedCode": "bank.info()"
   },
   "outputs": [
    {
     "name": "stdout",
     "output_type": "stream",
     "text": [
      "<class 'pandas.core.frame.DataFrame'>\n",
      "RangeIndex: 41188 entries, 0 to 41187\n",
      "Data columns (total 23 columns):\n",
      " #   Column          Non-Null Count  Dtype  \n",
      "---  ------          --------------  -----  \n",
      " 0   client_id       41188 non-null  int64  \n",
      " 1   age             41188 non-null  int64  \n",
      " 2   job             41188 non-null  object \n",
      " 3   marital         41188 non-null  object \n",
      " 4   education       41188 non-null  object \n",
      " 5   credit_default  41188 non-null  object \n",
      " 6   housing         41188 non-null  object \n",
      " 7   loan            41188 non-null  object \n",
      " 8   contact         41188 non-null  object \n",
      " 9   month           41188 non-null  object \n",
      " 10  day_of_week     41188 non-null  object \n",
      " 11  duration        41188 non-null  int64  \n",
      " 12  campaign        41188 non-null  int64  \n",
      " 13  pdays           41188 non-null  int64  \n",
      " 14  previous        41188 non-null  int64  \n",
      " 15  poutcome        5625 non-null   float64\n",
      " 16  emp_var_rate    41188 non-null  float64\n",
      " 17  cons_price_idx  41188 non-null  float64\n",
      " 18  cons_conf_idx   41188 non-null  float64\n",
      " 19  euribor3m       41188 non-null  float64\n",
      " 20  nr_employed     41188 non-null  float64\n",
      " 21  y               41188 non-null  int64  \n",
      " 22  year            41188 non-null  int64  \n",
      "dtypes: float64(6), int64(8), object(9)\n",
      "memory usage: 7.2+ MB\n"
     ]
    }
   ],
   "source": [
    "bank.info()"
   ]
  },
  {
   "cell_type": "code",
   "execution_count": 64,
   "id": "2275135a-ec73-4da6-b8d7-81b631e555c9",
   "metadata": {
    "executionTime": 0,
    "lastSuccessfullyExecutedCode": "bank['month']=bank['month'].str.capitalize()\nbank['day_of_week']=bank['day_of_week'].str.capitalize()\n"
   },
   "outputs": [],
   "source": [
    "bank['month']=bank['month'].str.capitalize()\n",
    "bank['day_of_week']=bank['day_of_week'].str.capitalize()\n"
   ]
  },
  {
   "cell_type": "code",
   "execution_count": 65,
   "id": "c30f0f6d-84c9-410f-be6f-568daec53238",
   "metadata": {
    "executionTime": 93,
    "lastSuccessfullyExecutedCode": "\nlast_contact_date_1 = \"2022\" + \"-\" + bank['month'] + \"-\" + bank['day_of_week']\n\nlast_contact_date_1.head()"
   },
   "outputs": [
    {
     "data": {
      "text/plain": [
       "0    2022-May-Mon\n",
       "1    2022-May-Mon\n",
       "2    2022-May-Mon\n",
       "3    2022-May-Mon\n",
       "4    2022-May-Mon\n",
       "dtype: object"
      ]
     },
     "execution_count": 65,
     "metadata": {},
     "output_type": "execute_result"
    }
   ],
   "source": [
    "\n",
    "last_contact_date_1 = \"2022\" + \"-\" + bank['month'] + \"-\" + bank['day_of_week']\n",
    "\n",
    "last_contact_date_1.head()"
   ]
  },
  {
   "cell_type": "code",
   "execution_count": 66,
   "id": "26bb76ba-10ea-4ed2-868f-bef52008f058",
   "metadata": {
    "executionTime": 89,
    "lastSuccessfullyExecutedCode": "last_contact_date_datetime = \\\npd.to_datetime(last_contact_date_1, format=\"%Y-%b-%a\")\n\nbank[\"last_contact_date\"] = last_contact_date_datetime \n\nbank.info()"
   },
   "outputs": [
    {
     "name": "stdout",
     "output_type": "stream",
     "text": [
      "<class 'pandas.core.frame.DataFrame'>\n",
      "RangeIndex: 41188 entries, 0 to 41187\n",
      "Data columns (total 24 columns):\n",
      " #   Column             Non-Null Count  Dtype         \n",
      "---  ------             --------------  -----         \n",
      " 0   client_id          41188 non-null  int64         \n",
      " 1   age                41188 non-null  int64         \n",
      " 2   job                41188 non-null  object        \n",
      " 3   marital            41188 non-null  object        \n",
      " 4   education          41188 non-null  object        \n",
      " 5   credit_default     41188 non-null  object        \n",
      " 6   housing            41188 non-null  object        \n",
      " 7   loan               41188 non-null  object        \n",
      " 8   contact            41188 non-null  object        \n",
      " 9   month              41188 non-null  object        \n",
      " 10  day_of_week        41188 non-null  object        \n",
      " 11  duration           41188 non-null  int64         \n",
      " 12  campaign           41188 non-null  int64         \n",
      " 13  pdays              41188 non-null  int64         \n",
      " 14  previous           41188 non-null  int64         \n",
      " 15  poutcome           5625 non-null   float64       \n",
      " 16  emp_var_rate       41188 non-null  float64       \n",
      " 17  cons_price_idx     41188 non-null  float64       \n",
      " 18  cons_conf_idx      41188 non-null  float64       \n",
      " 19  euribor3m          41188 non-null  float64       \n",
      " 20  nr_employed        41188 non-null  float64       \n",
      " 21  y                  41188 non-null  int64         \n",
      " 22  year               41188 non-null  int64         \n",
      " 23  last_contact_date  41188 non-null  datetime64[ns]\n",
      "dtypes: datetime64[ns](1), float64(6), int64(8), object(9)\n",
      "memory usage: 7.5+ MB\n"
     ]
    }
   ],
   "source": [
    "last_contact_date_datetime = \\\n",
    "pd.to_datetime(last_contact_date_1, format=\"%Y-%b-%a\")\n",
    "\n",
    "bank[\"last_contact_date\"] = last_contact_date_datetime \n",
    "\n",
    "bank.info()"
   ]
  },
  {
   "cell_type": "code",
   "execution_count": 67,
   "id": "0d61bd1f-bd32-4fb7-a639-0126eec5e69a",
   "metadata": {
    "executionTime": 248,
    "lastSuccessfullyExecutedCode": "bank.head()"
   },
   "outputs": [
    {
     "data": {
      "text/html": [
       "<div>\n",
       "<style scoped>\n",
       "    .dataframe tbody tr th:only-of-type {\n",
       "        vertical-align: middle;\n",
       "    }\n",
       "\n",
       "    .dataframe tbody tr th {\n",
       "        vertical-align: top;\n",
       "    }\n",
       "\n",
       "    .dataframe thead th {\n",
       "        text-align: right;\n",
       "    }\n",
       "</style>\n",
       "<table border=\"1\" class=\"dataframe\">\n",
       "  <thead>\n",
       "    <tr style=\"text-align: right;\">\n",
       "      <th></th>\n",
       "      <th>client_id</th>\n",
       "      <th>age</th>\n",
       "      <th>job</th>\n",
       "      <th>marital</th>\n",
       "      <th>education</th>\n",
       "      <th>credit_default</th>\n",
       "      <th>housing</th>\n",
       "      <th>loan</th>\n",
       "      <th>contact</th>\n",
       "      <th>month</th>\n",
       "      <th>...</th>\n",
       "      <th>previous</th>\n",
       "      <th>poutcome</th>\n",
       "      <th>emp_var_rate</th>\n",
       "      <th>cons_price_idx</th>\n",
       "      <th>cons_conf_idx</th>\n",
       "      <th>euribor3m</th>\n",
       "      <th>nr_employed</th>\n",
       "      <th>y</th>\n",
       "      <th>year</th>\n",
       "      <th>last_contact_date</th>\n",
       "    </tr>\n",
       "  </thead>\n",
       "  <tbody>\n",
       "    <tr>\n",
       "      <th>0</th>\n",
       "      <td>0</td>\n",
       "      <td>56</td>\n",
       "      <td>housemaid</td>\n",
       "      <td>married</td>\n",
       "      <td>basic_4y</td>\n",
       "      <td>no</td>\n",
       "      <td>no</td>\n",
       "      <td>no</td>\n",
       "      <td>telephone</td>\n",
       "      <td>May</td>\n",
       "      <td>...</td>\n",
       "      <td>0</td>\n",
       "      <td>NaN</td>\n",
       "      <td>1.1</td>\n",
       "      <td>93.994</td>\n",
       "      <td>-36.4</td>\n",
       "      <td>4.857</td>\n",
       "      <td>5191.0</td>\n",
       "      <td>0</td>\n",
       "      <td>2022</td>\n",
       "      <td>2022-05-01</td>\n",
       "    </tr>\n",
       "    <tr>\n",
       "      <th>1</th>\n",
       "      <td>1</td>\n",
       "      <td>57</td>\n",
       "      <td>services</td>\n",
       "      <td>married</td>\n",
       "      <td>high_school</td>\n",
       "      <td>unknown</td>\n",
       "      <td>no</td>\n",
       "      <td>no</td>\n",
       "      <td>telephone</td>\n",
       "      <td>May</td>\n",
       "      <td>...</td>\n",
       "      <td>0</td>\n",
       "      <td>NaN</td>\n",
       "      <td>1.1</td>\n",
       "      <td>93.994</td>\n",
       "      <td>-36.4</td>\n",
       "      <td>4.857</td>\n",
       "      <td>5191.0</td>\n",
       "      <td>0</td>\n",
       "      <td>2022</td>\n",
       "      <td>2022-05-01</td>\n",
       "    </tr>\n",
       "    <tr>\n",
       "      <th>2</th>\n",
       "      <td>2</td>\n",
       "      <td>37</td>\n",
       "      <td>services</td>\n",
       "      <td>married</td>\n",
       "      <td>high_school</td>\n",
       "      <td>no</td>\n",
       "      <td>yes</td>\n",
       "      <td>no</td>\n",
       "      <td>telephone</td>\n",
       "      <td>May</td>\n",
       "      <td>...</td>\n",
       "      <td>0</td>\n",
       "      <td>NaN</td>\n",
       "      <td>1.1</td>\n",
       "      <td>93.994</td>\n",
       "      <td>-36.4</td>\n",
       "      <td>4.857</td>\n",
       "      <td>5191.0</td>\n",
       "      <td>0</td>\n",
       "      <td>2022</td>\n",
       "      <td>2022-05-01</td>\n",
       "    </tr>\n",
       "    <tr>\n",
       "      <th>3</th>\n",
       "      <td>3</td>\n",
       "      <td>40</td>\n",
       "      <td>admin</td>\n",
       "      <td>married</td>\n",
       "      <td>basic_6y</td>\n",
       "      <td>no</td>\n",
       "      <td>no</td>\n",
       "      <td>no</td>\n",
       "      <td>telephone</td>\n",
       "      <td>May</td>\n",
       "      <td>...</td>\n",
       "      <td>0</td>\n",
       "      <td>NaN</td>\n",
       "      <td>1.1</td>\n",
       "      <td>93.994</td>\n",
       "      <td>-36.4</td>\n",
       "      <td>4.857</td>\n",
       "      <td>5191.0</td>\n",
       "      <td>0</td>\n",
       "      <td>2022</td>\n",
       "      <td>2022-05-01</td>\n",
       "    </tr>\n",
       "    <tr>\n",
       "      <th>4</th>\n",
       "      <td>4</td>\n",
       "      <td>56</td>\n",
       "      <td>services</td>\n",
       "      <td>married</td>\n",
       "      <td>high_school</td>\n",
       "      <td>no</td>\n",
       "      <td>no</td>\n",
       "      <td>yes</td>\n",
       "      <td>telephone</td>\n",
       "      <td>May</td>\n",
       "      <td>...</td>\n",
       "      <td>0</td>\n",
       "      <td>NaN</td>\n",
       "      <td>1.1</td>\n",
       "      <td>93.994</td>\n",
       "      <td>-36.4</td>\n",
       "      <td>4.857</td>\n",
       "      <td>5191.0</td>\n",
       "      <td>0</td>\n",
       "      <td>2022</td>\n",
       "      <td>2022-05-01</td>\n",
       "    </tr>\n",
       "  </tbody>\n",
       "</table>\n",
       "<p>5 rows × 24 columns</p>\n",
       "</div>"
      ],
      "text/plain": [
       "   client_id  age        job  marital    education credit_default housing  \\\n",
       "0          0   56  housemaid  married     basic_4y             no      no   \n",
       "1          1   57   services  married  high_school        unknown      no   \n",
       "2          2   37   services  married  high_school             no     yes   \n",
       "3          3   40      admin  married     basic_6y             no      no   \n",
       "4          4   56   services  married  high_school             no      no   \n",
       "\n",
       "  loan    contact month  ... previous  poutcome  emp_var_rate  cons_price_idx  \\\n",
       "0   no  telephone   May  ...        0       NaN           1.1          93.994   \n",
       "1   no  telephone   May  ...        0       NaN           1.1          93.994   \n",
       "2   no  telephone   May  ...        0       NaN           1.1          93.994   \n",
       "3   no  telephone   May  ...        0       NaN           1.1          93.994   \n",
       "4  yes  telephone   May  ...        0       NaN           1.1          93.994   \n",
       "\n",
       "   cons_conf_idx  euribor3m  nr_employed  y  year  last_contact_date  \n",
       "0          -36.4      4.857       5191.0  0  2022         2022-05-01  \n",
       "1          -36.4      4.857       5191.0  0  2022         2022-05-01  \n",
       "2          -36.4      4.857       5191.0  0  2022         2022-05-01  \n",
       "3          -36.4      4.857       5191.0  0  2022         2022-05-01  \n",
       "4          -36.4      4.857       5191.0  0  2022         2022-05-01  \n",
       "\n",
       "[5 rows x 24 columns]"
      ]
     },
     "execution_count": 67,
     "metadata": {},
     "output_type": "execute_result"
    }
   ],
   "source": [
    "bank.head()"
   ]
  },
  {
   "cell_type": "code",
   "execution_count": 68,
   "id": "022ea055-bcac-46a7-988f-feea8e7af8f5",
   "metadata": {
    "executionTime": 96,
    "lastSuccessfullyExecutedCode": "bank['last_contact_date'].value_counts()"
   },
   "outputs": [
    {
     "data": {
      "text/plain": [
       "2022-05-01    13769\n",
       "2022-07-01     7174\n",
       "2022-08-01     6178\n",
       "2022-06-01     5318\n",
       "2022-11-01     4101\n",
       "2022-04-01     2632\n",
       "2022-10-01      718\n",
       "2022-09-01      570\n",
       "2022-03-01      546\n",
       "2022-12-01      182\n",
       "Name: last_contact_date, dtype: int64"
      ]
     },
     "execution_count": 68,
     "metadata": {},
     "output_type": "execute_result"
    }
   ],
   "source": [
    "bank['last_contact_date'].value_counts()"
   ]
  },
  {
   "cell_type": "code",
   "execution_count": 69,
   "id": "6e604d3d-f2bd-489a-aafd-c3624fdb8c59",
   "metadata": {
    "executionTime": 76,
    "lastSuccessfullyExecutedCode": "campaign[\"last_contact_date\"] = last_contact_date_datetime \n\ncampaign.info()"
   },
   "outputs": [
    {
     "name": "stdout",
     "output_type": "stream",
     "text": [
      "<class 'pandas.core.frame.DataFrame'>\n",
      "RangeIndex: 41188 entries, 0 to 41187\n",
      "Data columns (total 8 columns):\n",
      " #   Column                      Non-Null Count  Dtype         \n",
      "---  ------                      --------------  -----         \n",
      " 0   client_id                   41188 non-null  int64         \n",
      " 1   contact_duration            41188 non-null  int64         \n",
      " 2   number_contacts             41188 non-null  int64         \n",
      " 3   pdays                       41188 non-null  int64         \n",
      " 4   previous_campaign_contacts  41188 non-null  int64         \n",
      " 5   previous_outcome            5625 non-null   float64       \n",
      " 6   campaign_outcome            41188 non-null  int64         \n",
      " 7   last_contact_date           41188 non-null  datetime64[ns]\n",
      "dtypes: datetime64[ns](1), float64(1), int64(6)\n",
      "memory usage: 2.5 MB\n"
     ]
    }
   ],
   "source": [
    "campaign[\"last_contact_date\"] = last_contact_date_datetime \n",
    "\n",
    "campaign.info()"
   ]
  },
  {
   "cell_type": "code",
   "execution_count": 70,
   "id": "148851a6-fb54-4a2b-b22b-fea66bbef793",
   "metadata": {
    "executionTime": 121,
    "lastSuccessfullyExecutedCode": "campaign.head()"
   },
   "outputs": [
    {
     "data": {
      "text/html": [
       "<div>\n",
       "<style scoped>\n",
       "    .dataframe tbody tr th:only-of-type {\n",
       "        vertical-align: middle;\n",
       "    }\n",
       "\n",
       "    .dataframe tbody tr th {\n",
       "        vertical-align: top;\n",
       "    }\n",
       "\n",
       "    .dataframe thead th {\n",
       "        text-align: right;\n",
       "    }\n",
       "</style>\n",
       "<table border=\"1\" class=\"dataframe\">\n",
       "  <thead>\n",
       "    <tr style=\"text-align: right;\">\n",
       "      <th></th>\n",
       "      <th>client_id</th>\n",
       "      <th>contact_duration</th>\n",
       "      <th>number_contacts</th>\n",
       "      <th>pdays</th>\n",
       "      <th>previous_campaign_contacts</th>\n",
       "      <th>previous_outcome</th>\n",
       "      <th>campaign_outcome</th>\n",
       "      <th>last_contact_date</th>\n",
       "    </tr>\n",
       "  </thead>\n",
       "  <tbody>\n",
       "    <tr>\n",
       "      <th>0</th>\n",
       "      <td>0</td>\n",
       "      <td>261</td>\n",
       "      <td>1</td>\n",
       "      <td>999</td>\n",
       "      <td>0</td>\n",
       "      <td>NaN</td>\n",
       "      <td>0</td>\n",
       "      <td>2022-05-01</td>\n",
       "    </tr>\n",
       "    <tr>\n",
       "      <th>1</th>\n",
       "      <td>1</td>\n",
       "      <td>149</td>\n",
       "      <td>1</td>\n",
       "      <td>999</td>\n",
       "      <td>0</td>\n",
       "      <td>NaN</td>\n",
       "      <td>0</td>\n",
       "      <td>2022-05-01</td>\n",
       "    </tr>\n",
       "    <tr>\n",
       "      <th>2</th>\n",
       "      <td>2</td>\n",
       "      <td>226</td>\n",
       "      <td>1</td>\n",
       "      <td>999</td>\n",
       "      <td>0</td>\n",
       "      <td>NaN</td>\n",
       "      <td>0</td>\n",
       "      <td>2022-05-01</td>\n",
       "    </tr>\n",
       "    <tr>\n",
       "      <th>3</th>\n",
       "      <td>3</td>\n",
       "      <td>151</td>\n",
       "      <td>1</td>\n",
       "      <td>999</td>\n",
       "      <td>0</td>\n",
       "      <td>NaN</td>\n",
       "      <td>0</td>\n",
       "      <td>2022-05-01</td>\n",
       "    </tr>\n",
       "    <tr>\n",
       "      <th>4</th>\n",
       "      <td>4</td>\n",
       "      <td>307</td>\n",
       "      <td>1</td>\n",
       "      <td>999</td>\n",
       "      <td>0</td>\n",
       "      <td>NaN</td>\n",
       "      <td>0</td>\n",
       "      <td>2022-05-01</td>\n",
       "    </tr>\n",
       "  </tbody>\n",
       "</table>\n",
       "</div>"
      ],
      "text/plain": [
       "   client_id  contact_duration  number_contacts  pdays  \\\n",
       "0          0               261                1    999   \n",
       "1          1               149                1    999   \n",
       "2          2               226                1    999   \n",
       "3          3               151                1    999   \n",
       "4          4               307                1    999   \n",
       "\n",
       "   previous_campaign_contacts  previous_outcome  campaign_outcome  \\\n",
       "0                           0               NaN                 0   \n",
       "1                           0               NaN                 0   \n",
       "2                           0               NaN                 0   \n",
       "3                           0               NaN                 0   \n",
       "4                           0               NaN                 0   \n",
       "\n",
       "  last_contact_date  \n",
       "0        2022-05-01  \n",
       "1        2022-05-01  \n",
       "2        2022-05-01  \n",
       "3        2022-05-01  \n",
       "4        2022-05-01  "
      ]
     },
     "execution_count": 70,
     "metadata": {},
     "output_type": "execute_result"
    }
   ],
   "source": [
    "campaign.head()"
   ]
  },
  {
   "cell_type": "markdown",
   "id": "ef22db86-94cf-4720-98b2-7c1a36c73051",
   "metadata": {},
   "source": [
    "## Store csv files"
   ]
  },
  {
   "cell_type": "code",
   "execution_count": 71,
   "id": "80cb3de3-dab7-4a48-8642-f8570bd460bd",
   "metadata": {
    "executionTime": 0,
    "lastSuccessfullyExecutedCode": "campaign.to_csv('campaign.csv', index=False)\neconomics.to_csv('economics.csv', index=False)\nclient.to_csv('client.csv', index=False)"
   },
   "outputs": [],
   "source": [
    "campaign.to_csv('campaign.csv', index=False)\n",
    "economics.to_csv('economics.csv', index=False)\n",
    "client.to_csv('client.csv', index=False)"
   ]
  },
  {
   "cell_type": "code",
   "execution_count": 72,
   "id": "9c3fb09e-a5f5-4d5c-813b-f5167af373c3",
   "metadata": {
    "executionTime": 607,
    "lastSuccessfullyExecutedCode": "campaign.head(2)"
   },
   "outputs": [
    {
     "data": {
      "text/html": [
       "<div>\n",
       "<style scoped>\n",
       "    .dataframe tbody tr th:only-of-type {\n",
       "        vertical-align: middle;\n",
       "    }\n",
       "\n",
       "    .dataframe tbody tr th {\n",
       "        vertical-align: top;\n",
       "    }\n",
       "\n",
       "    .dataframe thead th {\n",
       "        text-align: right;\n",
       "    }\n",
       "</style>\n",
       "<table border=\"1\" class=\"dataframe\">\n",
       "  <thead>\n",
       "    <tr style=\"text-align: right;\">\n",
       "      <th></th>\n",
       "      <th>client_id</th>\n",
       "      <th>contact_duration</th>\n",
       "      <th>number_contacts</th>\n",
       "      <th>pdays</th>\n",
       "      <th>previous_campaign_contacts</th>\n",
       "      <th>previous_outcome</th>\n",
       "      <th>campaign_outcome</th>\n",
       "      <th>last_contact_date</th>\n",
       "    </tr>\n",
       "  </thead>\n",
       "  <tbody>\n",
       "    <tr>\n",
       "      <th>0</th>\n",
       "      <td>0</td>\n",
       "      <td>261</td>\n",
       "      <td>1</td>\n",
       "      <td>999</td>\n",
       "      <td>0</td>\n",
       "      <td>NaN</td>\n",
       "      <td>0</td>\n",
       "      <td>2022-05-01</td>\n",
       "    </tr>\n",
       "    <tr>\n",
       "      <th>1</th>\n",
       "      <td>1</td>\n",
       "      <td>149</td>\n",
       "      <td>1</td>\n",
       "      <td>999</td>\n",
       "      <td>0</td>\n",
       "      <td>NaN</td>\n",
       "      <td>0</td>\n",
       "      <td>2022-05-01</td>\n",
       "    </tr>\n",
       "  </tbody>\n",
       "</table>\n",
       "</div>"
      ],
      "text/plain": [
       "   client_id  contact_duration  number_contacts  pdays  \\\n",
       "0          0               261                1    999   \n",
       "1          1               149                1    999   \n",
       "\n",
       "   previous_campaign_contacts  previous_outcome  campaign_outcome  \\\n",
       "0                           0               NaN                 0   \n",
       "1                           0               NaN                 0   \n",
       "\n",
       "  last_contact_date  \n",
       "0        2022-05-01  \n",
       "1        2022-05-01  "
      ]
     },
     "execution_count": 72,
     "metadata": {},
     "output_type": "execute_result"
    }
   ],
   "source": [
    "campaign.head(2)"
   ]
  },
  {
   "cell_type": "code",
   "execution_count": 73,
   "id": "ad6eb87a-7507-42a7-9eb8-12a09e1bc649",
   "metadata": {
    "executionTime": 392,
    "lastSuccessfullyExecutedCode": "economics.head(2)"
   },
   "outputs": [
    {
     "data": {
      "text/html": [
       "<div>\n",
       "<style scoped>\n",
       "    .dataframe tbody tr th:only-of-type {\n",
       "        vertical-align: middle;\n",
       "    }\n",
       "\n",
       "    .dataframe tbody tr th {\n",
       "        vertical-align: top;\n",
       "    }\n",
       "\n",
       "    .dataframe thead th {\n",
       "        text-align: right;\n",
       "    }\n",
       "</style>\n",
       "<table border=\"1\" class=\"dataframe\">\n",
       "  <thead>\n",
       "    <tr style=\"text-align: right;\">\n",
       "      <th></th>\n",
       "      <th>client_id</th>\n",
       "      <th>emp_var_rate</th>\n",
       "      <th>cons_price_idx</th>\n",
       "      <th>euribor_three_months</th>\n",
       "      <th>number_employed</th>\n",
       "    </tr>\n",
       "  </thead>\n",
       "  <tbody>\n",
       "    <tr>\n",
       "      <th>0</th>\n",
       "      <td>0</td>\n",
       "      <td>1.1</td>\n",
       "      <td>93.994</td>\n",
       "      <td>4.857</td>\n",
       "      <td>5191.0</td>\n",
       "    </tr>\n",
       "    <tr>\n",
       "      <th>1</th>\n",
       "      <td>1</td>\n",
       "      <td>1.1</td>\n",
       "      <td>93.994</td>\n",
       "      <td>4.857</td>\n",
       "      <td>5191.0</td>\n",
       "    </tr>\n",
       "  </tbody>\n",
       "</table>\n",
       "</div>"
      ],
      "text/plain": [
       "   client_id  emp_var_rate  cons_price_idx  euribor_three_months  \\\n",
       "0          0           1.1          93.994                 4.857   \n",
       "1          1           1.1          93.994                 4.857   \n",
       "\n",
       "   number_employed  \n",
       "0           5191.0  \n",
       "1           5191.0  "
      ]
     },
     "execution_count": 73,
     "metadata": {},
     "output_type": "execute_result"
    }
   ],
   "source": [
    "economics.head(2)"
   ]
  },
  {
   "cell_type": "code",
   "execution_count": 74,
   "id": "ef37b983-ba9b-44f6-b903-3b55bdc82401",
   "metadata": {
    "executionTime": 300,
    "lastSuccessfullyExecutedCode": "client.head(2)"
   },
   "outputs": [
    {
     "data": {
      "text/html": [
       "<div>\n",
       "<style scoped>\n",
       "    .dataframe tbody tr th:only-of-type {\n",
       "        vertical-align: middle;\n",
       "    }\n",
       "\n",
       "    .dataframe tbody tr th {\n",
       "        vertical-align: top;\n",
       "    }\n",
       "\n",
       "    .dataframe thead th {\n",
       "        text-align: right;\n",
       "    }\n",
       "</style>\n",
       "<table border=\"1\" class=\"dataframe\">\n",
       "  <thead>\n",
       "    <tr style=\"text-align: right;\">\n",
       "      <th></th>\n",
       "      <th>id</th>\n",
       "      <th>age</th>\n",
       "      <th>job</th>\n",
       "      <th>marital</th>\n",
       "      <th>education</th>\n",
       "      <th>credit_default</th>\n",
       "      <th>housing</th>\n",
       "      <th>loan</th>\n",
       "    </tr>\n",
       "  </thead>\n",
       "  <tbody>\n",
       "    <tr>\n",
       "      <th>0</th>\n",
       "      <td>0</td>\n",
       "      <td>56</td>\n",
       "      <td>housemaid</td>\n",
       "      <td>married</td>\n",
       "      <td>basic_4y</td>\n",
       "      <td>no</td>\n",
       "      <td>no</td>\n",
       "      <td>no</td>\n",
       "    </tr>\n",
       "    <tr>\n",
       "      <th>1</th>\n",
       "      <td>1</td>\n",
       "      <td>57</td>\n",
       "      <td>services</td>\n",
       "      <td>married</td>\n",
       "      <td>high_school</td>\n",
       "      <td>unknown</td>\n",
       "      <td>no</td>\n",
       "      <td>no</td>\n",
       "    </tr>\n",
       "  </tbody>\n",
       "</table>\n",
       "</div>"
      ],
      "text/plain": [
       "   id  age        job  marital    education credit_default housing loan\n",
       "0   0   56  housemaid  married     basic_4y             no      no   no\n",
       "1   1   57   services  married  high_school        unknown      no   no"
      ]
     },
     "execution_count": 74,
     "metadata": {},
     "output_type": "execute_result"
    }
   ],
   "source": [
    "client.head(2)"
   ]
  },
  {
   "cell_type": "markdown",
   "id": "fdf87fe1-e4a3-4c19-956c-23ab8b88219b",
   "metadata": {},
   "source": [
    "## Create database design\n",
    "consisting of 3 tables."
   ]
  },
  {
   "cell_type": "code",
   "execution_count": 75,
   "id": "334028fb-6e29-48c8-b41f-3dc8fb0c3bc3",
   "metadata": {
    "executionTime": 78,
    "lastSuccessfullyExecutedCode": "# Store and print database_design\ndatabase_design = \\\n{'client': client, 'campaign':campaign, 'economics':economics }\n\n\nprint(database_design)"
   },
   "outputs": [
    {
     "name": "stdout",
     "output_type": "stream",
     "text": [
      "{'client':           id  age          job  marital            education credit_default  \\\n",
      "0          0   56    housemaid  married             basic_4y             no   \n",
      "1          1   57     services  married          high_school        unknown   \n",
      "2          2   37     services  married          high_school             no   \n",
      "3          3   40        admin  married             basic_6y             no   \n",
      "4          4   56     services  married          high_school             no   \n",
      "...      ...  ...          ...      ...                  ...            ...   \n",
      "41183  41183   73      retired  married  professional_course             no   \n",
      "41184  41184   46  blue-collar  married  professional_course             no   \n",
      "41185  41185   56      retired  married    university_degree             no   \n",
      "41186  41186   44   technician  married  professional_course             no   \n",
      "41187  41187   74      retired  married  professional_course             no   \n",
      "\n",
      "      housing loan  \n",
      "0          no   no  \n",
      "1          no   no  \n",
      "2         yes   no  \n",
      "3          no   no  \n",
      "4          no  yes  \n",
      "...       ...  ...  \n",
      "41183     yes   no  \n",
      "41184      no   no  \n",
      "41185     yes   no  \n",
      "41186      no   no  \n",
      "41187     yes   no  \n",
      "\n",
      "[41188 rows x 8 columns], 'campaign':        client_id  contact_duration  number_contacts  pdays  \\\n",
      "0              0               261                1    999   \n",
      "1              1               149                1    999   \n",
      "2              2               226                1    999   \n",
      "3              3               151                1    999   \n",
      "4              4               307                1    999   \n",
      "...          ...               ...              ...    ...   \n",
      "41183      41183               334                1    999   \n",
      "41184      41184               383                1    999   \n",
      "41185      41185               189                2    999   \n",
      "41186      41186               442                1    999   \n",
      "41187      41187               239                3    999   \n",
      "\n",
      "       previous_campaign_contacts  previous_outcome  campaign_outcome  \\\n",
      "0                               0               NaN                 0   \n",
      "1                               0               NaN                 0   \n",
      "2                               0               NaN                 0   \n",
      "3                               0               NaN                 0   \n",
      "4                               0               NaN                 0   \n",
      "...                           ...               ...               ...   \n",
      "41183                           0               NaN                 1   \n",
      "41184                           0               NaN                 0   \n",
      "41185                           0               NaN                 0   \n",
      "41186                           0               NaN                 1   \n",
      "41187                           1               0.0                 0   \n",
      "\n",
      "      last_contact_date  \n",
      "0            2022-05-01  \n",
      "1            2022-05-01  \n",
      "2            2022-05-01  \n",
      "3            2022-05-01  \n",
      "4            2022-05-01  \n",
      "...                 ...  \n",
      "41183        2022-11-01  \n",
      "41184        2022-11-01  \n",
      "41185        2022-11-01  \n",
      "41186        2022-11-01  \n",
      "41187        2022-11-01  \n",
      "\n",
      "[41188 rows x 8 columns], 'economics':        client_id  emp_var_rate  cons_price_idx  euribor_three_months  \\\n",
      "0              0           1.1          93.994                 4.857   \n",
      "1              1           1.1          93.994                 4.857   \n",
      "2              2           1.1          93.994                 4.857   \n",
      "3              3           1.1          93.994                 4.857   \n",
      "4              4           1.1          93.994                 4.857   \n",
      "...          ...           ...             ...                   ...   \n",
      "41183      41183          -1.1          94.767                 1.028   \n",
      "41184      41184          -1.1          94.767                 1.028   \n",
      "41185      41185          -1.1          94.767                 1.028   \n",
      "41186      41186          -1.1          94.767                 1.028   \n",
      "41187      41187          -1.1          94.767                 1.028   \n",
      "\n",
      "       number_employed  \n",
      "0               5191.0  \n",
      "1               5191.0  \n",
      "2               5191.0  \n",
      "3               5191.0  \n",
      "4               5191.0  \n",
      "...                ...  \n",
      "41183           4963.6  \n",
      "41184           4963.6  \n",
      "41185           4963.6  \n",
      "41186           4963.6  \n",
      "41187           4963.6  \n",
      "\n",
      "[41188 rows x 5 columns]}\n"
     ]
    }
   ],
   "source": [
    "# Store and print database_design\n",
    "database_design = \\\n",
    "{'client': client, 'campaign':campaign, 'economics':economics }\n",
    "\n",
    "\n",
    "print(database_design)"
   ]
  }
 ],
 "metadata": {
  "editor": "DataCamp Workspace",
  "kernelspec": {
   "display_name": "Python [conda env:data_analytics]",
   "language": "python",
   "name": "conda-env-data_analytics-py"
  },
  "language_info": {
   "codemirror_mode": {
    "name": "ipython",
    "version": 3
   },
   "file_extension": ".py",
   "mimetype": "text/x-python",
   "name": "python",
   "nbconvert_exporter": "python",
   "pygments_lexer": "ipython3",
   "version": "3.10.0"
  },
  "vscode": {
   "interpreter": {
    "hash": "aee8b7b246df8f9039afb4144a1f6fd8d2ca17a180786b69acc140d282b71a49"
   }
  }
 },
 "nbformat": 4,
 "nbformat_minor": 5
}
